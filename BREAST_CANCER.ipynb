{
  "nbformat": 4,
  "nbformat_minor": 0,
  "metadata": {
    "colab": {
      "name": "breast cancer.ipynb",
      "provenance": [],
      "collapsed_sections": []
    },
    "kernelspec": {
      "name": "python3",
      "display_name": "Python 3"
    },
    "language_info": {
      "name": "python"
    },
    "accelerator": "GPU"
  },
  "cells": [
    {
      "cell_type": "code",
      "source": [
        "from tensorflow.keras.models import Sequential \n",
        "from tensorflow.keras.layers import Conv1D, MaxPooling2D, Dense,Flatten, Dropout,BatchNormalization, GlobalAveragePooling2D\n",
        "from tensorflow.keras.preprocessing.image import ImageDataGenerator, load_img, img_to_array\n",
        "from tensorflow.keras.optimizers import Adam \n",
        "import pandas as pd\n",
        "import cv2 as cv2\n",
        "import numpy as np \n",
        "from matplotlib import pyplot as plt \n",
        "import os \n",
        "from sklearn.model_selection import train_test_split\n",
        "import tensorflow as tf\n",
        "import seaborn as sns\n",
        "from sklearn import datasets\n",
        "from sklearn.preprocessing import StandardScaler\n",
        "from keras.models import Sequential\n"
      ],
      "metadata": {
        "id": "umWsIyjzCgCn"
      },
      "execution_count": null,
      "outputs": []
    },
    {
      "cell_type": "code",
      "source": [
        " from google.colab import files \n",
        " uploaded=files.upload()\n",
        " df=pd.read_csv('breast_cancer.csv')\n",
        " df.head(7)"
      ],
      "metadata": {
        "colab": {
          "base_uri": "https://localhost:8080/",
          "resources": {
            "http://localhost:8080/nbextensions/google.colab/files.js": {
              "data": "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",
              "ok": true,
              "headers": [
                [
                  "content-type",
                  "application/javascript"
                ]
              ],
              "status": 200,
              "status_text": ""
            }
          },
          "height": 390
        },
        "id": "SyUyUrRSDJih",
        "outputId": "177bc083-105a-4b4a-975d-9dd3e89c5dfb"
      },
      "execution_count": null,
      "outputs": [
        {
          "output_type": "display_data",
          "data": {
            "text/html": [
              "\n",
              "     <input type=\"file\" id=\"files-a80fcea5-88b3-405b-a1df-329dc3c628f5\" name=\"files[]\" multiple disabled\n",
              "        style=\"border:none\" />\n",
              "     <output id=\"result-a80fcea5-88b3-405b-a1df-329dc3c628f5\">\n",
              "      Upload widget is only available when the cell has been executed in the\n",
              "      current browser session. Please rerun this cell to enable.\n",
              "      </output>\n",
              "      <script src=\"/nbextensions/google.colab/files.js\"></script> "
            ],
            "text/plain": [
              "<IPython.core.display.HTML object>"
            ]
          },
          "metadata": {}
        },
        {
          "output_type": "stream",
          "name": "stdout",
          "text": [
            "Saving breast_cancer.csv to breast_cancer (3).csv\n"
          ]
        },
        {
          "output_type": "execute_result",
          "data": {
            "text/html": [
              "\n",
              "  <div id=\"df-33bf3381-6380-4284-be52-bfb8687f766a\">\n",
              "    <div class=\"colab-df-container\">\n",
              "      <div>\n",
              "<style scoped>\n",
              "    .dataframe tbody tr th:only-of-type {\n",
              "        vertical-align: middle;\n",
              "    }\n",
              "\n",
              "    .dataframe tbody tr th {\n",
              "        vertical-align: top;\n",
              "    }\n",
              "\n",
              "    .dataframe thead th {\n",
              "        text-align: right;\n",
              "    }\n",
              "</style>\n",
              "<table border=\"1\" class=\"dataframe\">\n",
              "  <thead>\n",
              "    <tr style=\"text-align: right;\">\n",
              "      <th></th>\n",
              "      <th></th>\n",
              "      <th></th>\n",
              "      <th></th>\n",
              "      <th></th>\n",
              "      <th></th>\n",
              "      <th></th>\n",
              "      <th></th>\n",
              "      <th></th>\n",
              "      <th></th>\n",
              "      <th></th>\n",
              "      <th></th>\n",
              "      <th></th>\n",
              "      <th></th>\n",
              "      <th></th>\n",
              "      <th></th>\n",
              "      <th></th>\n",
              "      <th></th>\n",
              "      <th></th>\n",
              "      <th></th>\n",
              "      <th></th>\n",
              "      <th></th>\n",
              "      <th></th>\n",
              "      <th></th>\n",
              "      <th></th>\n",
              "      <th></th>\n",
              "      <th></th>\n",
              "      <th>569</th>\n",
              "      <th>30</th>\n",
              "      <th>malignant</th>\n",
              "      <th>benign</th>\n",
              "    </tr>\n",
              "  </thead>\n",
              "  <tbody>\n",
              "    <tr>\n",
              "      <th>17.99</th>\n",
              "      <th>10.38</th>\n",
              "      <th>122.80</th>\n",
              "      <th>1001.0</th>\n",
              "      <th>0.11840</th>\n",
              "      <th>0.27760</th>\n",
              "      <th>0.3001</th>\n",
              "      <th>0.14710</th>\n",
              "      <th>0.2419</th>\n",
              "      <th>0.07871</th>\n",
              "      <th>1.0950</th>\n",
              "      <th>0.9053</th>\n",
              "      <th>8.589</th>\n",
              "      <th>153.40</th>\n",
              "      <th>0.006399</th>\n",
              "      <th>0.04904</th>\n",
              "      <th>0.05373</th>\n",
              "      <th>0.01587</th>\n",
              "      <th>0.03003</th>\n",
              "      <th>0.006193</th>\n",
              "      <th>25.38</th>\n",
              "      <th>17.33</th>\n",
              "      <th>184.60</th>\n",
              "      <th>2019.0</th>\n",
              "      <th>0.1622</th>\n",
              "      <th>0.6656</th>\n",
              "      <th>0.7119</th>\n",
              "      <td>0.2654</td>\n",
              "      <td>0.4601</td>\n",
              "      <td>0.11890</td>\n",
              "      <td>0</td>\n",
              "    </tr>\n",
              "    <tr>\n",
              "      <th>20.57</th>\n",
              "      <th>17.77</th>\n",
              "      <th>132.90</th>\n",
              "      <th>1326.0</th>\n",
              "      <th>0.08474</th>\n",
              "      <th>0.07864</th>\n",
              "      <th>0.0869</th>\n",
              "      <th>0.07017</th>\n",
              "      <th>0.1812</th>\n",
              "      <th>0.05667</th>\n",
              "      <th>0.5435</th>\n",
              "      <th>0.7339</th>\n",
              "      <th>3.398</th>\n",
              "      <th>74.08</th>\n",
              "      <th>0.005225</th>\n",
              "      <th>0.01308</th>\n",
              "      <th>0.01860</th>\n",
              "      <th>0.01340</th>\n",
              "      <th>0.01389</th>\n",
              "      <th>0.003532</th>\n",
              "      <th>24.99</th>\n",
              "      <th>23.41</th>\n",
              "      <th>158.80</th>\n",
              "      <th>1956.0</th>\n",
              "      <th>0.1238</th>\n",
              "      <th>0.1866</th>\n",
              "      <th>0.2416</th>\n",
              "      <td>0.1860</td>\n",
              "      <td>0.2750</td>\n",
              "      <td>0.08902</td>\n",
              "      <td>0</td>\n",
              "    </tr>\n",
              "    <tr>\n",
              "      <th>19.69</th>\n",
              "      <th>21.25</th>\n",
              "      <th>130.00</th>\n",
              "      <th>1203.0</th>\n",
              "      <th>0.10960</th>\n",
              "      <th>0.15990</th>\n",
              "      <th>0.1974</th>\n",
              "      <th>0.12790</th>\n",
              "      <th>0.2069</th>\n",
              "      <th>0.05999</th>\n",
              "      <th>0.7456</th>\n",
              "      <th>0.7869</th>\n",
              "      <th>4.585</th>\n",
              "      <th>94.03</th>\n",
              "      <th>0.006150</th>\n",
              "      <th>0.04006</th>\n",
              "      <th>0.03832</th>\n",
              "      <th>0.02058</th>\n",
              "      <th>0.02250</th>\n",
              "      <th>0.004571</th>\n",
              "      <th>23.57</th>\n",
              "      <th>25.53</th>\n",
              "      <th>152.50</th>\n",
              "      <th>1709.0</th>\n",
              "      <th>0.1444</th>\n",
              "      <th>0.4245</th>\n",
              "      <th>0.4504</th>\n",
              "      <td>0.2430</td>\n",
              "      <td>0.3613</td>\n",
              "      <td>0.08758</td>\n",
              "      <td>0</td>\n",
              "    </tr>\n",
              "    <tr>\n",
              "      <th>11.42</th>\n",
              "      <th>20.38</th>\n",
              "      <th>77.58</th>\n",
              "      <th>386.1</th>\n",
              "      <th>0.14250</th>\n",
              "      <th>0.28390</th>\n",
              "      <th>0.2414</th>\n",
              "      <th>0.10520</th>\n",
              "      <th>0.2597</th>\n",
              "      <th>0.09744</th>\n",
              "      <th>0.4956</th>\n",
              "      <th>1.1560</th>\n",
              "      <th>3.445</th>\n",
              "      <th>27.23</th>\n",
              "      <th>0.009110</th>\n",
              "      <th>0.07458</th>\n",
              "      <th>0.05661</th>\n",
              "      <th>0.01867</th>\n",
              "      <th>0.05963</th>\n",
              "      <th>0.009208</th>\n",
              "      <th>14.91</th>\n",
              "      <th>26.50</th>\n",
              "      <th>98.87</th>\n",
              "      <th>567.7</th>\n",
              "      <th>0.2098</th>\n",
              "      <th>0.8663</th>\n",
              "      <th>0.6869</th>\n",
              "      <td>0.2575</td>\n",
              "      <td>0.6638</td>\n",
              "      <td>0.17300</td>\n",
              "      <td>0</td>\n",
              "    </tr>\n",
              "    <tr>\n",
              "      <th>20.29</th>\n",
              "      <th>14.34</th>\n",
              "      <th>135.10</th>\n",
              "      <th>1297.0</th>\n",
              "      <th>0.10030</th>\n",
              "      <th>0.13280</th>\n",
              "      <th>0.1980</th>\n",
              "      <th>0.10430</th>\n",
              "      <th>0.1809</th>\n",
              "      <th>0.05883</th>\n",
              "      <th>0.7572</th>\n",
              "      <th>0.7813</th>\n",
              "      <th>5.438</th>\n",
              "      <th>94.44</th>\n",
              "      <th>0.011490</th>\n",
              "      <th>0.02461</th>\n",
              "      <th>0.05688</th>\n",
              "      <th>0.01885</th>\n",
              "      <th>0.01756</th>\n",
              "      <th>0.005115</th>\n",
              "      <th>22.54</th>\n",
              "      <th>16.67</th>\n",
              "      <th>152.20</th>\n",
              "      <th>1575.0</th>\n",
              "      <th>0.1374</th>\n",
              "      <th>0.2050</th>\n",
              "      <th>0.4000</th>\n",
              "      <td>0.1625</td>\n",
              "      <td>0.2364</td>\n",
              "      <td>0.07678</td>\n",
              "      <td>0</td>\n",
              "    </tr>\n",
              "    <tr>\n",
              "      <th>12.45</th>\n",
              "      <th>15.70</th>\n",
              "      <th>82.57</th>\n",
              "      <th>477.1</th>\n",
              "      <th>0.12780</th>\n",
              "      <th>0.17000</th>\n",
              "      <th>0.1578</th>\n",
              "      <th>0.08089</th>\n",
              "      <th>0.2087</th>\n",
              "      <th>0.07613</th>\n",
              "      <th>0.3345</th>\n",
              "      <th>0.8902</th>\n",
              "      <th>2.217</th>\n",
              "      <th>27.19</th>\n",
              "      <th>0.007510</th>\n",
              "      <th>0.03345</th>\n",
              "      <th>0.03672</th>\n",
              "      <th>0.01137</th>\n",
              "      <th>0.02165</th>\n",
              "      <th>0.005082</th>\n",
              "      <th>15.47</th>\n",
              "      <th>23.75</th>\n",
              "      <th>103.40</th>\n",
              "      <th>741.6</th>\n",
              "      <th>0.1791</th>\n",
              "      <th>0.5249</th>\n",
              "      <th>0.5355</th>\n",
              "      <td>0.1741</td>\n",
              "      <td>0.3985</td>\n",
              "      <td>0.12440</td>\n",
              "      <td>0</td>\n",
              "    </tr>\n",
              "    <tr>\n",
              "      <th>18.25</th>\n",
              "      <th>19.98</th>\n",
              "      <th>119.60</th>\n",
              "      <th>1040.0</th>\n",
              "      <th>0.09463</th>\n",
              "      <th>0.10900</th>\n",
              "      <th>0.1127</th>\n",
              "      <th>0.07400</th>\n",
              "      <th>0.1794</th>\n",
              "      <th>0.05742</th>\n",
              "      <th>0.4467</th>\n",
              "      <th>0.7732</th>\n",
              "      <th>3.180</th>\n",
              "      <th>53.91</th>\n",
              "      <th>0.004314</th>\n",
              "      <th>0.01382</th>\n",
              "      <th>0.02254</th>\n",
              "      <th>0.01039</th>\n",
              "      <th>0.01369</th>\n",
              "      <th>0.002179</th>\n",
              "      <th>22.88</th>\n",
              "      <th>27.66</th>\n",
              "      <th>153.20</th>\n",
              "      <th>1606.0</th>\n",
              "      <th>0.1442</th>\n",
              "      <th>0.2576</th>\n",
              "      <th>0.3784</th>\n",
              "      <td>0.1932</td>\n",
              "      <td>0.3063</td>\n",
              "      <td>0.08368</td>\n",
              "      <td>0</td>\n",
              "    </tr>\n",
              "  </tbody>\n",
              "</table>\n",
              "</div>\n",
              "      <button class=\"colab-df-convert\" onclick=\"convertToInteractive('df-33bf3381-6380-4284-be52-bfb8687f766a')\"\n",
              "              title=\"Convert this dataframe to an interactive table.\"\n",
              "              style=\"display:none;\">\n",
              "        \n",
              "  <svg xmlns=\"http://www.w3.org/2000/svg\" height=\"24px\"viewBox=\"0 0 24 24\"\n",
              "       width=\"24px\">\n",
              "    <path d=\"M0 0h24v24H0V0z\" fill=\"none\"/>\n",
              "    <path d=\"M18.56 5.44l.94 2.06.94-2.06 2.06-.94-2.06-.94-.94-2.06-.94 2.06-2.06.94zm-11 1L8.5 8.5l.94-2.06 2.06-.94-2.06-.94L8.5 2.5l-.94 2.06-2.06.94zm10 10l.94 2.06.94-2.06 2.06-.94-2.06-.94-.94-2.06-.94 2.06-2.06.94z\"/><path d=\"M17.41 7.96l-1.37-1.37c-.4-.4-.92-.59-1.43-.59-.52 0-1.04.2-1.43.59L10.3 9.45l-7.72 7.72c-.78.78-.78 2.05 0 2.83L4 21.41c.39.39.9.59 1.41.59.51 0 1.02-.2 1.41-.59l7.78-7.78 2.81-2.81c.8-.78.8-2.07 0-2.86zM5.41 20L4 18.59l7.72-7.72 1.47 1.35L5.41 20z\"/>\n",
              "  </svg>\n",
              "      </button>\n",
              "      \n",
              "  <style>\n",
              "    .colab-df-container {\n",
              "      display:flex;\n",
              "      flex-wrap:wrap;\n",
              "      gap: 12px;\n",
              "    }\n",
              "\n",
              "    .colab-df-convert {\n",
              "      background-color: #E8F0FE;\n",
              "      border: none;\n",
              "      border-radius: 50%;\n",
              "      cursor: pointer;\n",
              "      display: none;\n",
              "      fill: #1967D2;\n",
              "      height: 32px;\n",
              "      padding: 0 0 0 0;\n",
              "      width: 32px;\n",
              "    }\n",
              "\n",
              "    .colab-df-convert:hover {\n",
              "      background-color: #E2EBFA;\n",
              "      box-shadow: 0px 1px 2px rgba(60, 64, 67, 0.3), 0px 1px 3px 1px rgba(60, 64, 67, 0.15);\n",
              "      fill: #174EA6;\n",
              "    }\n",
              "\n",
              "    [theme=dark] .colab-df-convert {\n",
              "      background-color: #3B4455;\n",
              "      fill: #D2E3FC;\n",
              "    }\n",
              "\n",
              "    [theme=dark] .colab-df-convert:hover {\n",
              "      background-color: #434B5C;\n",
              "      box-shadow: 0px 1px 3px 1px rgba(0, 0, 0, 0.15);\n",
              "      filter: drop-shadow(0px 1px 2px rgba(0, 0, 0, 0.3));\n",
              "      fill: #FFFFFF;\n",
              "    }\n",
              "  </style>\n",
              "\n",
              "      <script>\n",
              "        const buttonEl =\n",
              "          document.querySelector('#df-33bf3381-6380-4284-be52-bfb8687f766a button.colab-df-convert');\n",
              "        buttonEl.style.display =\n",
              "          google.colab.kernel.accessAllowed ? 'block' : 'none';\n",
              "\n",
              "        async function convertToInteractive(key) {\n",
              "          const element = document.querySelector('#df-33bf3381-6380-4284-be52-bfb8687f766a');\n",
              "          const dataTable =\n",
              "            await google.colab.kernel.invokeFunction('convertToInteractive',\n",
              "                                                     [key], {});\n",
              "          if (!dataTable) return;\n",
              "\n",
              "          const docLinkHtml = 'Like what you see? Visit the ' +\n",
              "            '<a target=\"_blank\" href=https://colab.research.google.com/notebooks/data_table.ipynb>data table notebook</a>'\n",
              "            + ' to learn more about interactive tables.';\n",
              "          element.innerHTML = '';\n",
              "          dataTable['output_type'] = 'display_data';\n",
              "          await google.colab.output.renderOutput(dataTable, element);\n",
              "          const docLink = document.createElement('div');\n",
              "          docLink.innerHTML = docLinkHtml;\n",
              "          element.appendChild(docLink);\n",
              "        }\n",
              "      </script>\n",
              "    </div>\n",
              "  </div>\n",
              "  "
            ],
            "text/plain": [
              "                                                                                                                                                                                                        569  ...  benign\n",
              "17.99 10.38 122.80 1001.0 0.11840 0.27760 0.3001 0.14710 0.2419 0.07871 1.0950 0.9053 8.589 153.40 0.006399 0.04904 0.05373 0.01587 0.03003 0.006193 25.38 17.33 184.60 2019.0 0.1622 0.6656 0.7119  0.2654  ...       0\n",
              "20.57 17.77 132.90 1326.0 0.08474 0.07864 0.0869 0.07017 0.1812 0.05667 0.5435 0.7339 3.398 74.08  0.005225 0.01308 0.01860 0.01340 0.01389 0.003532 24.99 23.41 158.80 1956.0 0.1238 0.1866 0.2416  0.1860  ...       0\n",
              "19.69 21.25 130.00 1203.0 0.10960 0.15990 0.1974 0.12790 0.2069 0.05999 0.7456 0.7869 4.585 94.03  0.006150 0.04006 0.03832 0.02058 0.02250 0.004571 23.57 25.53 152.50 1709.0 0.1444 0.4245 0.4504  0.2430  ...       0\n",
              "11.42 20.38 77.58  386.1  0.14250 0.28390 0.2414 0.10520 0.2597 0.09744 0.4956 1.1560 3.445 27.23  0.009110 0.07458 0.05661 0.01867 0.05963 0.009208 14.91 26.50 98.87  567.7  0.2098 0.8663 0.6869  0.2575  ...       0\n",
              "20.29 14.34 135.10 1297.0 0.10030 0.13280 0.1980 0.10430 0.1809 0.05883 0.7572 0.7813 5.438 94.44  0.011490 0.02461 0.05688 0.01885 0.01756 0.005115 22.54 16.67 152.20 1575.0 0.1374 0.2050 0.4000  0.1625  ...       0\n",
              "12.45 15.70 82.57  477.1  0.12780 0.17000 0.1578 0.08089 0.2087 0.07613 0.3345 0.8902 2.217 27.19  0.007510 0.03345 0.03672 0.01137 0.02165 0.005082 15.47 23.75 103.40 741.6  0.1791 0.5249 0.5355  0.1741  ...       0\n",
              "18.25 19.98 119.60 1040.0 0.09463 0.10900 0.1127 0.07400 0.1794 0.05742 0.4467 0.7732 3.180 53.91  0.004314 0.01382 0.02254 0.01039 0.01369 0.002179 22.88 27.66 153.20 1606.0 0.1442 0.2576 0.3784  0.1932  ...       0\n",
              "\n",
              "[7 rows x 4 columns]"
            ]
          },
          "metadata": {},
          "execution_count": 175
        }
      ]
    },
    {
      "cell_type": "code",
      "source": [
        "dataset=r'r/content/drive/MyDrive/Cancer_images'\n",
        "Yes_path=r'r/content/drive/MyDrive/Cancer_images/1'\n",
        "No_path=r'r/content/drive/MyDrive/Cancer_images/0'\n"
      ],
      "metadata": {
        "id": "2v7yrBrzExVs"
      },
      "execution_count": null,
      "outputs": []
    },
    {
      "cell_type": "code",
      "source": [
        "image=cv2.imread(\"/content/drive/MyDrive/Cancer_images/yes/10253_idx5_x551_y401_class1.png\")\n",
        "print(type(image))\n",
        "plt.imshow(image)"
      ],
      "metadata": {
        "colab": {
          "base_uri": "https://localhost:8080/",
          "height": 302
        },
        "id": "ySZPj9ERnIvh",
        "outputId": "7253ffe9-8335-42fe-f48f-2e3035eb9eed"
      },
      "execution_count": null,
      "outputs": [
        {
          "output_type": "stream",
          "name": "stdout",
          "text": [
            "<class 'numpy.ndarray'>\n"
          ]
        },
        {
          "output_type": "execute_result",
          "data": {
            "text/plain": [
              "<matplotlib.image.AxesImage at 0x7fca6f501510>"
            ]
          },
          "metadata": {},
          "execution_count": 177
        },
        {
          "output_type": "display_data",
          "data": {
            "image/png": "[encoded data removed]",
            "text/plain": [
              "<Figure size 432x288 with 1 Axes>"
            ]
          },
          "metadata": {
            "needs_background": "light"
          }
        }
      ]
    },
    {
      "cell_type": "code",
      "source": [
        "pathdir = [Yes_path, No_path]\n",
        "classes = ['Yes', 'No']\n",
        "filepaths = []\n",
        "labels = []\n",
        "for i, j in zip(pathdir, classes):\n",
        "    filelist = os.listdir()\n",
        "    print(filelist)\n",
        "    for vals in filelist:\n",
        "        x = os.path.join(i, vals)\n",
        "        filepaths.append(x)\n",
        "        labels.append(j)\n",
        "print(filepaths.__len__(), labels.__len__())\n"
      ],
      "metadata": {
        "colab": {
          "base_uri": "https://localhost:8080/"
        },
        "id": "KRupXHr7qU0L",
        "outputId": "6638af96-ece6-4696-fb34-2dd554b71aa6"
      },
      "execution_count": null,
      "outputs": [
        {
          "output_type": "stream",
          "name": "stdout",
          "text": [
            "['.config', 'gdrive', 'drive', 'img2.png', 'breast_cancer (1).csv', 'Cancer_images.zip', 'breast_cancer (2).csv', 'breast_cancer.csv', 'sample_data']\n",
            "['.config', 'gdrive', 'drive', 'img2.png', 'breast_cancer (1).csv', 'Cancer_images.zip', 'breast_cancer (2).csv', 'breast_cancer.csv', 'sample_data']\n",
            "18 18\n"
          ]
        }
      ]
    },
    {
      "cell_type": "code",
      "source": [
        "print(filepaths[0:4])\n",
        "print(labels[0:4])\n",
        "\n",
        "print(filepaths[-4:])\n",
        "print(labels[-4:])\n"
      ],
      "metadata": {
        "colab": {
          "base_uri": "https://localhost:8080/"
        },
        "id": "XD5IR9QCq_vz",
        "outputId": "140af9cb-9e81-4648-fe62-5144f0ca66f6"
      },
      "execution_count": null,
      "outputs": [
        {
          "output_type": "stream",
          "name": "stdout",
          "text": [
            "['r/content/drive/MyDrive/Cancer_images/1/.config', 'r/content/drive/MyDrive/Cancer_images/1/gdrive', 'r/content/drive/MyDrive/Cancer_images/1/drive', 'r/content/drive/MyDrive/Cancer_images/1/img2.png']\n",
            "['Yes', 'Yes', 'Yes', 'Yes']\n",
            "['r/content/drive/MyDrive/Cancer_images/0/Cancer_images.zip', 'r/content/drive/MyDrive/Cancer_images/0/breast_cancer (2).csv', 'r/content/drive/MyDrive/Cancer_images/0/breast_cancer.csv', 'r/content/drive/MyDrive/Cancer_images/0/sample_data']\n",
            "['No', 'No', 'No', 'No']\n"
          ]
        }
      ]
    },
    {
      "cell_type": "code",
      "source": [
        "dataset = list(zip(filepaths, labels))\n",
        "pathframe = pd.DataFrame(dataset, columns=['filepaths', 'labels'])"
      ],
      "metadata": {
        "id": "l9y6naB6rE3n"
      },
      "execution_count": null,
      "outputs": []
    },
    {
      "cell_type": "code",
      "source": [
        "pathframe.__len__()\n",
        "pathframe.tail()"
      ],
      "metadata": {
        "colab": {
          "base_uri": "https://localhost:8080/",
          "height": 206
        },
        "id": "SX_Xbzl0rRUP",
        "outputId": "ba67df66-3376-4e58-b610-39e49c3d408d"
      },
      "execution_count": null,
      "outputs": [
        {
          "output_type": "execute_result",
          "data": {
            "text/html": [
              "\n",
              "  <div id=\"df-17f48ae5-bf49-43aa-96aa-3ed9f607ba95\">\n",
              "    <div class=\"colab-df-container\">\n",
              "      <div>\n",
              "<style scoped>\n",
              "    .dataframe tbody tr th:only-of-type {\n",
              "        vertical-align: middle;\n",
              "    }\n",
              "\n",
              "    .dataframe tbody tr th {\n",
              "        vertical-align: top;\n",
              "    }\n",
              "\n",
              "    .dataframe thead th {\n",
              "        text-align: right;\n",
              "    }\n",
              "</style>\n",
              "<table border=\"1\" class=\"dataframe\">\n",
              "  <thead>\n",
              "    <tr style=\"text-align: right;\">\n",
              "      <th></th>\n",
              "      <th>filepaths</th>\n",
              "      <th>labels</th>\n",
              "    </tr>\n",
              "  </thead>\n",
              "  <tbody>\n",
              "    <tr>\n",
              "      <th>13</th>\n",
              "      <td>r/content/drive/MyDrive/Cancer_images/0/breast...</td>\n",
              "      <td>No</td>\n",
              "    </tr>\n",
              "    <tr>\n",
              "      <th>14</th>\n",
              "      <td>r/content/drive/MyDrive/Cancer_images/0/Cancer...</td>\n",
              "      <td>No</td>\n",
              "    </tr>\n",
              "    <tr>\n",
              "      <th>15</th>\n",
              "      <td>r/content/drive/MyDrive/Cancer_images/0/breast...</td>\n",
              "      <td>No</td>\n",
              "    </tr>\n",
              "    <tr>\n",
              "      <th>16</th>\n",
              "      <td>r/content/drive/MyDrive/Cancer_images/0/breast...</td>\n",
              "      <td>No</td>\n",
              "    </tr>\n",
              "    <tr>\n",
              "      <th>17</th>\n",
              "      <td>r/content/drive/MyDrive/Cancer_images/0/sample...</td>\n",
              "      <td>No</td>\n",
              "    </tr>\n",
              "  </tbody>\n",
              "</table>\n",
              "</div>\n",
              "      <button class=\"colab-df-convert\" onclick=\"convertToInteractive('df-17f48ae5-bf49-43aa-96aa-3ed9f607ba95')\"\n",
              "              title=\"Convert this dataframe to an interactive table.\"\n",
              "              style=\"display:none;\">\n",
              "        \n",
              "  <svg xmlns=\"http://www.w3.org/2000/svg\" height=\"24px\"viewBox=\"0 0 24 24\"\n",
              "       width=\"24px\">\n",
              "    <path d=\"M0 0h24v24H0V0z\" fill=\"none\"/>\n",
              "    <path d=\"M18.56 5.44l.94 2.06.94-2.06 2.06-.94-2.06-.94-.94-2.06-.94 2.06-2.06.94zm-11 1L8.5 8.5l.94-2.06 2.06-.94-2.06-.94L8.5 2.5l-.94 2.06-2.06.94zm10 10l.94 2.06.94-2.06 2.06-.94-2.06-.94-.94-2.06-.94 2.06-2.06.94z\"/><path d=\"M17.41 7.96l-1.37-1.37c-.4-.4-.92-.59-1.43-.59-.52 0-1.04.2-1.43.59L10.3 9.45l-7.72 7.72c-.78.78-.78 2.05 0 2.83L4 21.41c.39.39.9.59 1.41.59.51 0 1.02-.2 1.41-.59l7.78-7.78 2.81-2.81c.8-.78.8-2.07 0-2.86zM5.41 20L4 18.59l7.72-7.72 1.47 1.35L5.41 20z\"/>\n",
              "  </svg>\n",
              "      </button>\n",
              "      \n",
              "  <style>\n",
              "    .colab-df-container {\n",
              "      display:flex;\n",
              "      flex-wrap:wrap;\n",
              "      gap: 12px;\n",
              "    }\n",
              "\n",
              "    .colab-df-convert {\n",
              "      background-color: #E8F0FE;\n",
              "      border: none;\n",
              "      border-radius: 50%;\n",
              "      cursor: pointer;\n",
              "      display: none;\n",
              "      fill: #1967D2;\n",
              "      height: 32px;\n",
              "      padding: 0 0 0 0;\n",
              "      width: 32px;\n",
              "    }\n",
              "\n",
              "    .colab-df-convert:hover {\n",
              "      background-color: #E2EBFA;\n",
              "      box-shadow: 0px 1px 2px rgba(60, 64, 67, 0.3), 0px 1px 3px 1px rgba(60, 64, 67, 0.15);\n",
              "      fill: #174EA6;\n",
              "    }\n",
              "\n",
              "    [theme=dark] .colab-df-convert {\n",
              "      background-color: #3B4455;\n",
              "      fill: #D2E3FC;\n",
              "    }\n",
              "\n",
              "    [theme=dark] .colab-df-convert:hover {\n",
              "      background-color: #434B5C;\n",
              "      box-shadow: 0px 1px 3px 1px rgba(0, 0, 0, 0.15);\n",
              "      filter: drop-shadow(0px 1px 2px rgba(0, 0, 0, 0.3));\n",
              "      fill: #FFFFFF;\n",
              "    }\n",
              "  </style>\n",
              "\n",
              "      <script>\n",
              "        const buttonEl =\n",
              "          document.querySelector('#df-17f48ae5-bf49-43aa-96aa-3ed9f607ba95 button.colab-df-convert');\n",
              "        buttonEl.style.display =\n",
              "          google.colab.kernel.accessAllowed ? 'block' : 'none';\n",
              "\n",
              "        async function convertToInteractive(key) {\n",
              "          const element = document.querySelector('#df-17f48ae5-bf49-43aa-96aa-3ed9f607ba95');\n",
              "          const dataTable =\n",
              "            await google.colab.kernel.invokeFunction('convertToInteractive',\n",
              "                                                     [key], {});\n",
              "          if (!dataTable) return;\n",
              "\n",
              "          const docLinkHtml = 'Like what you see? Visit the ' +\n",
              "            '<a target=\"_blank\" href=https://colab.research.google.com/notebooks/data_table.ipynb>data table notebook</a>'\n",
              "            + ' to learn more about interactive tables.';\n",
              "          element.innerHTML = '';\n",
              "          dataTable['output_type'] = 'display_data';\n",
              "          await google.colab.output.renderOutput(dataTable, element);\n",
              "          const docLink = document.createElement('div');\n",
              "          docLink.innerHTML = docLinkHtml;\n",
              "          element.appendChild(docLink);\n",
              "        }\n",
              "      </script>\n",
              "    </div>\n",
              "  </div>\n",
              "  "
            ],
            "text/plain": [
              "                                            filepaths labels\n",
              "13  r/content/drive/MyDrive/Cancer_images/0/breast...     No\n",
              "14  r/content/drive/MyDrive/Cancer_images/0/Cancer...     No\n",
              "15  r/content/drive/MyDrive/Cancer_images/0/breast...     No\n",
              "16  r/content/drive/MyDrive/Cancer_images/0/breast...     No\n",
              "17  r/content/drive/MyDrive/Cancer_images/0/sample...     No"
            ]
          },
          "metadata": {},
          "execution_count": 146
        }
      ]
    },
    {
      "cell_type": "code",
      "source": [
        "print(pathframe['labels'].value_counts())"
      ],
      "metadata": {
        "colab": {
          "base_uri": "https://localhost:8080/"
        },
        "id": "Ur0OiWttrV5L",
        "outputId": "e66225ea-6b81-471d-8b52-e6992d1d5551"
      },
      "execution_count": null,
      "outputs": [
        {
          "output_type": "stream",
          "name": "stdout",
          "text": [
            "Yes    9\n",
            "No     9\n",
            "Name: labels, dtype: int64\n"
          ]
        }
      ]
    },
    {
      "cell_type": "code",
      "source": [
        "y=cancer.target\n",
        "y"
      ],
      "metadata": {
        "colab": {
          "base_uri": "https://localhost:8080/"
        },
        "id": "oAgFG3CoGb0y",
        "outputId": "d988a656-6dc9-4e62-b29c-7d534ba8c088"
      },
      "execution_count": null,
      "outputs": [
        {
          "output_type": "execute_result",
          "data": {
            "text/plain": [
              "array([0, 0, 0, 0, 0, 0, 0, 0, 0, 0, 0, 0, 0, 0, 0, 0, 0, 0, 0, 1, 1, 1,\n",
              "       0, 0, 0, 0, 0, 0, 0, 0, 0, 0, 0, 0, 0, 0, 0, 1, 0, 0, 0, 0, 0, 0,\n",
              "       0, 0, 1, 0, 1, 1, 1, 1, 1, 0, 0, 1, 0, 0, 1, 1, 1, 1, 0, 1, 0, 0,\n",
              "       1, 1, 1, 1, 0, 1, 0, 0, 1, 0, 1, 0, 0, 1, 1, 1, 0, 0, 1, 0, 0, 0,\n",
              "       1, 1, 1, 0, 1, 1, 0, 0, 1, 1, 1, 0, 0, 1, 1, 1, 1, 0, 1, 1, 0, 1,\n",
              "       1, 1, 1, 1, 1, 1, 1, 0, 0, 0, 1, 0, 0, 1, 1, 1, 0, 0, 1, 0, 1, 0,\n",
              "       0, 1, 0, 0, 1, 1, 0, 1, 1, 0, 1, 1, 1, 1, 0, 1, 1, 1, 1, 1, 1, 1,\n",
              "       1, 1, 0, 1, 1, 1, 1, 0, 0, 1, 0, 1, 1, 0, 0, 1, 1, 0, 0, 1, 1, 1,\n",
              "       1, 0, 1, 1, 0, 0, 0, 1, 0, 1, 0, 1, 1, 1, 0, 1, 1, 0, 0, 1, 0, 0,\n",
              "       0, 0, 1, 0, 0, 0, 1, 0, 1, 0, 1, 1, 0, 1, 0, 0, 0, 0, 1, 1, 0, 0,\n",
              "       1, 1, 1, 0, 1, 1, 1, 1, 1, 0, 0, 1, 1, 0, 1, 1, 0, 0, 1, 0, 1, 1,\n",
              "       1, 1, 0, 1, 1, 1, 1, 1, 0, 1, 0, 0, 0, 0, 0, 0, 0, 0, 0, 0, 0, 0,\n",
              "       0, 0, 1, 1, 1, 1, 1, 1, 0, 1, 0, 1, 1, 0, 1, 1, 0, 1, 0, 0, 1, 1,\n",
              "       1, 1, 1, 1, 1, 1, 1, 1, 1, 1, 1, 0, 1, 1, 0, 1, 0, 1, 1, 1, 1, 1,\n",
              "       1, 1, 1, 1, 1, 1, 1, 1, 1, 0, 1, 1, 1, 0, 1, 0, 1, 1, 1, 1, 0, 0,\n",
              "       0, 1, 1, 1, 1, 0, 1, 0, 1, 0, 1, 1, 1, 0, 1, 1, 1, 1, 1, 1, 1, 0,\n",
              "       0, 0, 1, 1, 1, 1, 1, 1, 1, 1, 1, 1, 1, 0, 0, 1, 0, 0, 0, 1, 0, 0,\n",
              "       1, 1, 1, 1, 1, 0, 1, 1, 1, 1, 1, 0, 1, 1, 1, 0, 1, 1, 0, 0, 1, 1,\n",
              "       1, 1, 1, 1, 0, 1, 1, 1, 1, 1, 1, 1, 0, 1, 1, 1, 1, 1, 0, 1, 1, 0,\n",
              "       1, 1, 1, 1, 1, 1, 1, 1, 1, 1, 1, 1, 0, 1, 0, 0, 1, 0, 1, 1, 1, 1,\n",
              "       1, 0, 1, 1, 0, 1, 0, 1, 1, 0, 1, 0, 1, 1, 1, 1, 1, 1, 1, 1, 0, 0,\n",
              "       1, 1, 1, 1, 1, 1, 0, 1, 1, 1, 1, 1, 1, 1, 1, 1, 1, 0, 1, 1, 1, 1,\n",
              "       1, 1, 1, 0, 1, 0, 1, 1, 0, 1, 1, 1, 1, 1, 0, 0, 1, 0, 1, 0, 1, 1,\n",
              "       1, 1, 1, 0, 1, 1, 0, 1, 0, 1, 0, 0, 1, 1, 1, 0, 1, 1, 1, 1, 1, 1,\n",
              "       1, 1, 1, 1, 1, 0, 1, 0, 0, 1, 1, 1, 1, 1, 1, 1, 1, 1, 1, 1, 1, 1,\n",
              "       1, 1, 1, 1, 1, 1, 1, 1, 1, 1, 1, 1, 0, 0, 0, 0, 0, 0, 1])"
            ]
          },
          "metadata": {},
          "execution_count": 198
        }
      ]
    },
    {
      "cell_type": "code",
      "source": [
        "cancer.target_names"
      ],
      "metadata": {
        "colab": {
          "base_uri": "https://localhost:8080/"
        },
        "id": "Q6qRm1UNHWwl",
        "outputId": "69afbb17-2084-436d-836b-7fd65f4ba8be"
      },
      "execution_count": null,
      "outputs": [
        {
          "output_type": "execute_result",
          "data": {
            "text/plain": [
              "array(['malignant', 'benign'], dtype='<U9')"
            ]
          },
          "metadata": {},
          "execution_count": 199
        }
      ]
    },
    {
      "cell_type": "code",
      "source": [
        "X.shape\n"
      ],
      "metadata": {
        "colab": {
          "base_uri": "https://localhost:8080/"
        },
        "id": "kOk_dwmCHe0D",
        "outputId": "b7e3965b-b50d-410f-e7e5-1f955e6a8103"
      },
      "execution_count": null,
      "outputs": [
        {
          "output_type": "execute_result",
          "data": {
            "text/plain": [
              "(569, 30)"
            ]
          },
          "metadata": {},
          "execution_count": 200
        }
      ]
    },
    {
      "cell_type": "code",
      "source": [
        "Train, Test = train_test_split(pathframe, train_size=0.90, random_state=0)\n",
        "Train_new, valid = train_test_split(Train, train_size = 0.90, random_state=0)\n",
        "print(Train.shape, Test.shape, Train_new.shape, valid.shape)"
      ],
      "metadata": {
        "id": "IRZGdy_h-NoE",
        "colab": {
          "base_uri": "https://localhost:8080/"
        },
        "outputId": "224283df-7c0f-46bc-dd05-2d95f2ca949e"
      },
      "execution_count": null,
      "outputs": [
        {
          "output_type": "stream",
          "name": "stdout",
          "text": [
            "(16, 2) (2, 2) (14, 2) (2, 2)\n"
          ]
        }
      ]
    },
    {
      "cell_type": "code",
      "source": [
        "X_train,X_test,y_train,y_test=train_test_split(X,y,test_size=0.2,random_state=0,stratify=y)"
      ],
      "metadata": {
        "id": "yB_LBVlmHqZO"
      },
      "execution_count": null,
      "outputs": []
    },
    {
      "cell_type": "code",
      "source": [
        "X_train.shape"
      ],
      "metadata": {
        "colab": {
          "base_uri": "https://localhost:8080/"
        },
        "id": "85tHLufVILhB",
        "outputId": "c4e8af54-5ce4-43ba-8fab-7ca649ebd799"
      },
      "execution_count": null,
      "outputs": [
        {
          "output_type": "execute_result",
          "data": {
            "text/plain": [
              "(455, 30)"
            ]
          },
          "metadata": {},
          "execution_count": 11
        }
      ]
    },
    {
      "cell_type": "code",
      "source": [
        "X_test.shape"
      ],
      "metadata": {
        "colab": {
          "base_uri": "https://localhost:8080/"
        },
        "id": "P__ypi1HIPfe",
        "outputId": "ff28b175-8895-41cc-f25b-05d06761e079"
      },
      "execution_count": null,
      "outputs": [
        {
          "output_type": "execute_result",
          "data": {
            "text/plain": [
              "(114, 30)"
            ]
          },
          "metadata": {},
          "execution_count": 12
        }
      ]
    },
    {
      "cell_type": "code",
      "source": [
        "scaler = StandardScaler()\n",
        "X_train = scaler.fit_transform(X_train)\n",
        "X_test = scaler.transform(X_test)"
      ],
      "metadata": {
        "id": "GPZSUG7gI3H8"
      },
      "execution_count": null,
      "outputs": []
    },
    {
      "cell_type": "code",
      "source": [
        "X_train=X_train.reshape(455,30,1)\n",
        "X_test=X_test.reshape(114,30,1)"
      ],
      "metadata": {
        "id": "oyJyYaPSIYTA"
      },
      "execution_count": null,
      "outputs": []
    },
    {
      "cell_type": "code",
      "source": [
        "epochs=50\n",
        "model = Sequential()\n",
        "model.add(Conv1D(filters = 32 ,kernel_size = 2,activation = 'relu',input_shape = (30,1)))\n",
        "model.add(BatchNormalization())\n",
        "model.add(Dropout(0.2))\n",
        "\n",
        "model.add(Conv1D(filters = 64 ,kernel_size = 2,activation = 'relu',input_shape = (30,1)))\n",
        "model.add(BatchNormalization())\n",
        "model.add(Dropout(0.5))\n",
        "\n",
        "model.add(Flatten())\n",
        "model.add(Dense(64,activation = 'relu'))\n",
        "model.add(Dropout(0.5))\n",
        "\n",
        "model.add(Dense(1,activation = 'sigmoid'))"
      ],
      "metadata": {
        "id": "1c_K3v0lIsTE"
      },
      "execution_count": null,
      "outputs": []
    },
    {
      "cell_type": "code",
      "source": [
        "model.summary()"
      ],
      "metadata": {
        "colab": {
          "base_uri": "https://localhost:8080/"
        },
        "id": "uPs-HClwf1O0",
        "outputId": "df7c1efe-9bcb-4428-caf6-161afffa309c"
      },
      "execution_count": null,
      "outputs": [
        {
          "output_type": "stream",
          "name": "stdout",
          "text": [
            "Model: \"sequential_2\"\n",
            "_________________________________________________________________\n",
            " Layer (type)                Output Shape              Param #   \n",
            "=================================================================\n",
            " conv1d_4 (Conv1D)           (None, 29, 32)            96        \n",
            "                                                                 \n",
            " batch_normalization_4 (Batc  (None, 29, 32)           128       \n",
            " hNormalization)                                                 \n",
            "                                                                 \n",
            " dropout_6 (Dropout)         (None, 29, 32)            0         \n",
            "                                                                 \n",
            " conv1d_5 (Conv1D)           (None, 28, 64)            4160      \n",
            "                                                                 \n",
            " batch_normalization_5 (Batc  (None, 28, 64)           256       \n",
            " hNormalization)                                                 \n",
            "                                                                 \n",
            " dropout_7 (Dropout)         (None, 28, 64)            0         \n",
            "                                                                 \n",
            " flatten_2 (Flatten)         (None, 1792)              0         \n",
            "                                                                 \n",
            " dense_4 (Dense)             (None, 64)                114752    \n",
            "                                                                 \n",
            " dropout_8 (Dropout)         (None, 64)                0         \n",
            "                                                                 \n",
            " dense_5 (Dense)             (None, 1)                 65        \n",
            "                                                                 \n",
            "=================================================================\n",
            "Total params: 119,457\n",
            "Trainable params: 119,265\n",
            "Non-trainable params: 192\n",
            "_________________________________________________________________\n"
          ]
        }
      ]
    },
    {
      "cell_type": "code",
      "source": [
        "model.compile(optimizer=Adam(learning_rate=0.00005),loss = 'binary_crossentropy',metrics=['accuracy'])"
      ],
      "metadata": {
        "id": "PAvnmTNegLP1"
      },
      "execution_count": null,
      "outputs": []
    },
    {
      "cell_type": "code",
      "source": [
        "history = model.fit(X_train,y_train,epochs=epochs,validation_data=(X_test,y_test),verbose=1)                 "
      ],
      "metadata": {
        "colab": {
          "base_uri": "https://localhost:8080/"
        },
        "id": "PL6wclp1g35p",
        "outputId": "084d15f3-26bd-4774-b748-b5047ca3618b"
      },
      "execution_count": null,
      "outputs": [
        {
          "output_type": "stream",
          "name": "stdout",
          "text": [
            "Epoch 1/50\n",
            "15/15 [==============================] - 2s 28ms/step - loss: 1.1930 - accuracy: 0.4901 - val_loss: 0.6660 - val_accuracy: 0.7456\n",
            "Epoch 2/50\n",
            "15/15 [==============================] - 0s 10ms/step - loss: 0.9286 - accuracy: 0.5736 - val_loss: 0.6312 - val_accuracy: 0.8333\n",
            "Epoch 3/50\n",
            "15/15 [==============================] - 0s 10ms/step - loss: 0.7059 - accuracy: 0.6791 - val_loss: 0.5967 - val_accuracy: 0.8684\n",
            "Epoch 4/50\n",
            "15/15 [==============================] - 0s 9ms/step - loss: 0.5673 - accuracy: 0.7341 - val_loss: 0.5626 - val_accuracy: 0.8772\n",
            "Epoch 5/50\n",
            "15/15 [==============================] - 0s 9ms/step - loss: 0.4665 - accuracy: 0.7868 - val_loss: 0.5265 - val_accuracy: 0.8684\n",
            "Epoch 6/50\n",
            "15/15 [==============================] - 0s 10ms/step - loss: 0.4756 - accuracy: 0.8088 - val_loss: 0.4935 - val_accuracy: 0.8596\n",
            "Epoch 7/50\n",
            "15/15 [==============================] - 0s 11ms/step - loss: 0.4057 - accuracy: 0.8308 - val_loss: 0.4603 - val_accuracy: 0.8509\n",
            "Epoch 8/50\n",
            "15/15 [==============================] - 0s 9ms/step - loss: 0.3367 - accuracy: 0.8879 - val_loss: 0.4307 - val_accuracy: 0.8596\n",
            "Epoch 9/50\n",
            "15/15 [==============================] - 0s 10ms/step - loss: 0.3269 - accuracy: 0.8593 - val_loss: 0.4032 - val_accuracy: 0.8509\n",
            "Epoch 10/50\n",
            "15/15 [==============================] - 0s 10ms/step - loss: 0.3710 - accuracy: 0.8593 - val_loss: 0.3781 - val_accuracy: 0.8509\n",
            "Epoch 11/50\n",
            "15/15 [==============================] - 0s 9ms/step - loss: 0.2784 - accuracy: 0.8659 - val_loss: 0.3553 - val_accuracy: 0.8684\n",
            "Epoch 12/50\n",
            "15/15 [==============================] - 0s 9ms/step - loss: 0.2662 - accuracy: 0.8989 - val_loss: 0.3351 - val_accuracy: 0.8684\n",
            "Epoch 13/50\n",
            "15/15 [==============================] - 0s 10ms/step - loss: 0.2524 - accuracy: 0.9033 - val_loss: 0.3156 - val_accuracy: 0.8684\n",
            "Epoch 14/50\n",
            "15/15 [==============================] - 0s 10ms/step - loss: 0.2593 - accuracy: 0.8967 - val_loss: 0.2971 - val_accuracy: 0.8684\n",
            "Epoch 15/50\n",
            "15/15 [==============================] - 0s 10ms/step - loss: 0.2679 - accuracy: 0.8923 - val_loss: 0.2812 - val_accuracy: 0.8684\n",
            "Epoch 16/50\n",
            "15/15 [==============================] - 0s 9ms/step - loss: 0.2261 - accuracy: 0.9121 - val_loss: 0.2653 - val_accuracy: 0.8772\n",
            "Epoch 17/50\n",
            "15/15 [==============================] - 0s 10ms/step - loss: 0.2219 - accuracy: 0.9099 - val_loss: 0.2525 - val_accuracy: 0.8860\n",
            "Epoch 18/50\n",
            "15/15 [==============================] - 0s 9ms/step - loss: 0.1972 - accuracy: 0.9077 - val_loss: 0.2411 - val_accuracy: 0.8947\n",
            "Epoch 19/50\n",
            "15/15 [==============================] - 0s 10ms/step - loss: 0.2021 - accuracy: 0.9187 - val_loss: 0.2308 - val_accuracy: 0.9035\n",
            "Epoch 20/50\n",
            "15/15 [==============================] - 0s 9ms/step - loss: 0.1600 - accuracy: 0.9407 - val_loss: 0.2214 - val_accuracy: 0.9123\n",
            "Epoch 21/50\n",
            "15/15 [==============================] - 0s 10ms/step - loss: 0.1992 - accuracy: 0.9121 - val_loss: 0.2099 - val_accuracy: 0.9386\n",
            "Epoch 22/50\n",
            "15/15 [==============================] - 0s 10ms/step - loss: 0.1492 - accuracy: 0.9429 - val_loss: 0.2002 - val_accuracy: 0.9386\n",
            "Epoch 23/50\n",
            "15/15 [==============================] - 0s 10ms/step - loss: 0.2125 - accuracy: 0.9319 - val_loss: 0.1913 - val_accuracy: 0.9474\n",
            "Epoch 24/50\n",
            "15/15 [==============================] - 0s 10ms/step - loss: 0.1915 - accuracy: 0.9099 - val_loss: 0.1860 - val_accuracy: 0.9474\n",
            "Epoch 25/50\n",
            "15/15 [==============================] - 0s 10ms/step - loss: 0.1978 - accuracy: 0.9253 - val_loss: 0.1789 - val_accuracy: 0.9474\n",
            "Epoch 26/50\n",
            "15/15 [==============================] - 0s 10ms/step - loss: 0.2016 - accuracy: 0.9209 - val_loss: 0.1728 - val_accuracy: 0.9474\n",
            "Epoch 27/50\n",
            "15/15 [==============================] - 0s 10ms/step - loss: 0.1828 - accuracy: 0.9231 - val_loss: 0.1654 - val_accuracy: 0.9474\n",
            "Epoch 28/50\n",
            "15/15 [==============================] - 0s 10ms/step - loss: 0.1618 - accuracy: 0.9363 - val_loss: 0.1595 - val_accuracy: 0.9561\n",
            "Epoch 29/50\n",
            "15/15 [==============================] - 0s 10ms/step - loss: 0.1429 - accuracy: 0.9407 - val_loss: 0.1555 - val_accuracy: 0.9561\n",
            "Epoch 30/50\n",
            "15/15 [==============================] - 0s 10ms/step - loss: 0.1145 - accuracy: 0.9473 - val_loss: 0.1538 - val_accuracy: 0.9561\n",
            "Epoch 31/50\n",
            "15/15 [==============================] - 0s 9ms/step - loss: 0.1611 - accuracy: 0.9363 - val_loss: 0.1502 - val_accuracy: 0.9561\n",
            "Epoch 32/50\n",
            "15/15 [==============================] - 0s 10ms/step - loss: 0.1264 - accuracy: 0.9538 - val_loss: 0.1476 - val_accuracy: 0.9561\n",
            "Epoch 33/50\n",
            "15/15 [==============================] - 0s 9ms/step - loss: 0.1589 - accuracy: 0.9231 - val_loss: 0.1446 - val_accuracy: 0.9561\n",
            "Epoch 34/50\n",
            "15/15 [==============================] - 0s 9ms/step - loss: 0.1324 - accuracy: 0.9516 - val_loss: 0.1416 - val_accuracy: 0.9561\n",
            "Epoch 35/50\n",
            "15/15 [==============================] - 0s 9ms/step - loss: 0.1405 - accuracy: 0.9473 - val_loss: 0.1399 - val_accuracy: 0.9561\n",
            "Epoch 36/50\n",
            "15/15 [==============================] - 0s 11ms/step - loss: 0.1326 - accuracy: 0.9473 - val_loss: 0.1375 - val_accuracy: 0.9561\n",
            "Epoch 37/50\n",
            "15/15 [==============================] - 0s 9ms/step - loss: 0.1170 - accuracy: 0.9516 - val_loss: 0.1360 - val_accuracy: 0.9561\n",
            "Epoch 38/50\n",
            "15/15 [==============================] - 0s 11ms/step - loss: 0.1662 - accuracy: 0.9407 - val_loss: 0.1337 - val_accuracy: 0.9561\n",
            "Epoch 39/50\n",
            "15/15 [==============================] - 0s 9ms/step - loss: 0.1601 - accuracy: 0.9407 - val_loss: 0.1335 - val_accuracy: 0.9649\n",
            "Epoch 40/50\n",
            "15/15 [==============================] - 0s 9ms/step - loss: 0.1591 - accuracy: 0.9516 - val_loss: 0.1337 - val_accuracy: 0.9649\n",
            "Epoch 41/50\n",
            "15/15 [==============================] - 0s 9ms/step - loss: 0.1506 - accuracy: 0.9341 - val_loss: 0.1320 - val_accuracy: 0.9649\n",
            "Epoch 42/50\n",
            "15/15 [==============================] - 0s 10ms/step - loss: 0.1496 - accuracy: 0.9495 - val_loss: 0.1311 - val_accuracy: 0.9649\n",
            "Epoch 43/50\n",
            "15/15 [==============================] - 0s 10ms/step - loss: 0.1490 - accuracy: 0.9363 - val_loss: 0.1311 - val_accuracy: 0.9649\n",
            "Epoch 44/50\n",
            "15/15 [==============================] - 0s 10ms/step - loss: 0.1161 - accuracy: 0.9560 - val_loss: 0.1296 - val_accuracy: 0.9649\n",
            "Epoch 45/50\n",
            "15/15 [==============================] - 0s 9ms/step - loss: 0.1285 - accuracy: 0.9495 - val_loss: 0.1289 - val_accuracy: 0.9649\n",
            "Epoch 46/50\n",
            "15/15 [==============================] - 0s 10ms/step - loss: 0.0954 - accuracy: 0.9604 - val_loss: 0.1283 - val_accuracy: 0.9649\n",
            "Epoch 47/50\n",
            "15/15 [==============================] - 0s 10ms/step - loss: 0.1242 - accuracy: 0.9495 - val_loss: 0.1278 - val_accuracy: 0.9649\n",
            "Epoch 48/50\n",
            "15/15 [==============================] - 0s 9ms/step - loss: 0.1421 - accuracy: 0.9297 - val_loss: 0.1280 - val_accuracy: 0.9649\n",
            "Epoch 49/50\n",
            "15/15 [==============================] - 0s 11ms/step - loss: 0.1384 - accuracy: 0.9516 - val_loss: 0.1275 - val_accuracy: 0.9649\n",
            "Epoch 50/50\n",
            "15/15 [==============================] - 0s 9ms/step - loss: 0.1074 - accuracy: 0.9582 - val_loss: 0.1318 - val_accuracy: 0.9649\n"
          ]
        }
      ]
    },
    {
      "cell_type": "code",
      "source": [
        "def plot_learningCurve(history,epoch):\n",
        "  epoch_range=range(1,epoch+1)\n",
        "  plt.plot(epoch_range,history.history['accuracy'])\n",
        "  plt.plot(epoch_range,history.history['val_accuracy'])\n",
        "  plt.title('Model accuracy')\n",
        "  plt.ylabel('Accuracy')\n",
        "  plt.xlabel('Epoch')\n",
        "  plt.legend(['Train','Val'],loc='upper left')\n",
        "  plt.show()\n",
        "  plt.plot(epoch_range,history.history['loss'])\n",
        "  plt.plot(epoch_range,history.history['val_loss'])\n",
        "  plt.title('Model loss')\n",
        "  plt.ylabel('Loss')\n",
        "  plt.xlabel('Epoch')\n",
        "  plt.legend(['Train','Val'],loc='upper left')\n",
        "  plt.show()\n",
        "\n",
        "\n",
        "\n"
      ],
      "metadata": {
        "id": "AwynhGttAYIH"
      },
      "execution_count": null,
      "outputs": []
    },
    {
      "cell_type": "code",
      "source": [
        "history.history"
      ],
      "metadata": {
        "id": "ZsO2VLGOVj-e",
        "colab": {
          "base_uri": "https://localhost:8080/"
        },
        "outputId": "319ee45c-d8cb-4c36-f333-b405b627b701"
      },
      "execution_count": null,
      "outputs": [
        {
          "output_type": "execute_result",
          "data": {
            "text/plain": [
              "{'accuracy': [0.4901098906993866,\n",
              "  0.5736263990402222,\n",
              "  0.6791208982467651,\n",
              "  0.7340659499168396,\n",
              "  0.7868131995201111,\n",
              "  0.8087912201881409,\n",
              "  0.8307692408561707,\n",
              "  0.8879120945930481,\n",
              "  0.8593406677246094,\n",
              "  0.8593406677246094,\n",
              "  0.8659340739250183,\n",
              "  0.898901104927063,\n",
              "  0.903296709060669,\n",
              "  0.89670330286026,\n",
              "  0.892307698726654,\n",
              "  0.9120879173278809,\n",
              "  0.9098901152610779,\n",
              "  0.9076923131942749,\n",
              "  0.9186813235282898,\n",
              "  0.9406593441963196,\n",
              "  0.9120879173278809,\n",
              "  0.9428571462631226,\n",
              "  0.9318681359291077,\n",
              "  0.9098901152610779,\n",
              "  0.9252747297286987,\n",
              "  0.9208791255950928,\n",
              "  0.9230769276618958,\n",
              "  0.9362637400627136,\n",
              "  0.9406593441963196,\n",
              "  0.9472527503967285,\n",
              "  0.9362637400627136,\n",
              "  0.9538461565971375,\n",
              "  0.9230769276618958,\n",
              "  0.9516483545303345,\n",
              "  0.9472527503967285,\n",
              "  0.9472527503967285,\n",
              "  0.9516483545303345,\n",
              "  0.9406593441963196,\n",
              "  0.9406593441963196,\n",
              "  0.9516483545303345,\n",
              "  0.9340659379959106,\n",
              "  0.9494505524635315,\n",
              "  0.9362637400627136,\n",
              "  0.9560439586639404,\n",
              "  0.9494505524635315,\n",
              "  0.9604395627975464,\n",
              "  0.9494505524635315,\n",
              "  0.9296703338623047,\n",
              "  0.9516483545303345,\n",
              "  0.9582417607307434],\n",
              " 'loss': [1.1929786205291748,\n",
              "  0.9286492466926575,\n",
              "  0.7058784365653992,\n",
              "  0.5673133730888367,\n",
              "  0.46649640798568726,\n",
              "  0.475559800863266,\n",
              "  0.40569671988487244,\n",
              "  0.33667224645614624,\n",
              "  0.3268515169620514,\n",
              "  0.37098395824432373,\n",
              "  0.2783787250518799,\n",
              "  0.2661866843700409,\n",
              "  0.252361536026001,\n",
              "  0.25933176279067993,\n",
              "  0.2678753435611725,\n",
              "  0.22606845200061798,\n",
              "  0.22189602255821228,\n",
              "  0.19722898304462433,\n",
              "  0.2020951211452484,\n",
              "  0.15996405482292175,\n",
              "  0.19920557737350464,\n",
              "  0.149215966463089,\n",
              "  0.21247422695159912,\n",
              "  0.19149649143218994,\n",
              "  0.19783863425254822,\n",
              "  0.20162543654441833,\n",
              "  0.1828175038099289,\n",
              "  0.1618441790342331,\n",
              "  0.14293310046195984,\n",
              "  0.1144927367568016,\n",
              "  0.16108854115009308,\n",
              "  0.12638239562511444,\n",
              "  0.1588531732559204,\n",
              "  0.13241489231586456,\n",
              "  0.14049078524112701,\n",
              "  0.13264328241348267,\n",
              "  0.11699075251817703,\n",
              "  0.16616733372211456,\n",
              "  0.16009192168712616,\n",
              "  0.15914873778820038,\n",
              "  0.15063326060771942,\n",
              "  0.1496003270149231,\n",
              "  0.14896689355373383,\n",
              "  0.11612235009670258,\n",
              "  0.12851431965827942,\n",
              "  0.09543517976999283,\n",
              "  0.12422963231801987,\n",
              "  0.14213070273399353,\n",
              "  0.13840466737747192,\n",
              "  0.10742611438035965],\n",
              " 'val_accuracy': [0.7456140518188477,\n",
              "  0.8333333134651184,\n",
              "  0.8684210777282715,\n",
              "  0.8771929740905762,\n",
              "  0.8684210777282715,\n",
              "  0.859649121761322,\n",
              "  0.8508771657943726,\n",
              "  0.859649121761322,\n",
              "  0.8508771657943726,\n",
              "  0.8508771657943726,\n",
              "  0.8684210777282715,\n",
              "  0.8684210777282715,\n",
              "  0.8684210777282715,\n",
              "  0.8684210777282715,\n",
              "  0.8684210777282715,\n",
              "  0.8771929740905762,\n",
              "  0.8859649300575256,\n",
              "  0.8947368264198303,\n",
              "  0.9035087823867798,\n",
              "  0.9122806787490845,\n",
              "  0.9385964870452881,\n",
              "  0.9385964870452881,\n",
              "  0.9473684430122375,\n",
              "  0.9473684430122375,\n",
              "  0.9473684430122375,\n",
              "  0.9473684430122375,\n",
              "  0.9473684430122375,\n",
              "  0.9561403393745422,\n",
              "  0.9561403393745422,\n",
              "  0.9561403393745422,\n",
              "  0.9561403393745422,\n",
              "  0.9561403393745422,\n",
              "  0.9561403393745422,\n",
              "  0.9561403393745422,\n",
              "  0.9561403393745422,\n",
              "  0.9561403393745422,\n",
              "  0.9561403393745422,\n",
              "  0.9561403393745422,\n",
              "  0.9649122953414917,\n",
              "  0.9649122953414917,\n",
              "  0.9649122953414917,\n",
              "  0.9649122953414917,\n",
              "  0.9649122953414917,\n",
              "  0.9649122953414917,\n",
              "  0.9649122953414917,\n",
              "  0.9649122953414917,\n",
              "  0.9649122953414917,\n",
              "  0.9649122953414917,\n",
              "  0.9649122953414917,\n",
              "  0.9649122953414917],\n",
              " 'val_loss': [0.666024923324585,\n",
              "  0.6311948299407959,\n",
              "  0.5967026948928833,\n",
              "  0.56264728307724,\n",
              "  0.5265316367149353,\n",
              "  0.4935263395309448,\n",
              "  0.4603343904018402,\n",
              "  0.4307253658771515,\n",
              "  0.40316057205200195,\n",
              "  0.37806564569473267,\n",
              "  0.35534489154815674,\n",
              "  0.33510705828666687,\n",
              "  0.3155674934387207,\n",
              "  0.29706427454948425,\n",
              "  0.28121620416641235,\n",
              "  0.2653113603591919,\n",
              "  0.25246483087539673,\n",
              "  0.2411031275987625,\n",
              "  0.23077310621738434,\n",
              "  0.22137276828289032,\n",
              "  0.20989146828651428,\n",
              "  0.2001635879278183,\n",
              "  0.19134777784347534,\n",
              "  0.18598540127277374,\n",
              "  0.17890067398548126,\n",
              "  0.17283743619918823,\n",
              "  0.1653871387243271,\n",
              "  0.15954087674617767,\n",
              "  0.15547670423984528,\n",
              "  0.15384002029895782,\n",
              "  0.15019330382347107,\n",
              "  0.1476004272699356,\n",
              "  0.14456012845039368,\n",
              "  0.14155039191246033,\n",
              "  0.139870747923851,\n",
              "  0.13748808205127716,\n",
              "  0.1360214352607727,\n",
              "  0.13367535173892975,\n",
              "  0.13351929187774658,\n",
              "  0.13368092477321625,\n",
              "  0.13197842240333557,\n",
              "  0.13111302256584167,\n",
              "  0.13108685612678528,\n",
              "  0.12956655025482178,\n",
              "  0.12886522710323334,\n",
              "  0.12825225293636322,\n",
              "  0.12783291935920715,\n",
              "  0.12799085676670074,\n",
              "  0.12752220034599304,\n",
              "  0.13182516396045685]}"
            ]
          },
          "metadata": {},
          "execution_count": 195
        }
      ]
    },
    {
      "cell_type": "code",
      "source": [
        "plot_learningCurve(history,epochs)"
      ],
      "metadata": {
        "colab": {
          "base_uri": "https://localhost:8080/",
          "height": 573
        },
        "id": "S0KMPeeFYOtK",
        "outputId": "f54dd3f5-efbd-4502-f985-e8e29629db1c"
      },
      "execution_count": null,
      "outputs": [
        {
          "output_type": "display_data",
          "data": {
            "image/png": "[encoded data removed]",
            "text/plain": [
              "<Figure size 432x288 with 1 Axes>"
            ]
          },
          "metadata": {
            "needs_background": "light"
          }
        },
        {
          "output_type": "display_data",
          "data": {
            "image/png": "[encoded data removed]",
            "text/plain": [
              "<Figure size 432x288 with 1 Axes>"
            ]
          },
          "metadata": {
            "needs_background": "light"
          }
        }
      ]
    },
    {
      "cell_type": "code",
      "source": [
        ""
      ],
      "metadata": {
        "id": "DlM4NiW_YvCd"
      },
      "execution_count": null,
      "outputs": []
    }
  ]
}